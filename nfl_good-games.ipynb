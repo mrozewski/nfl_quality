{
 "cells": [
  {
   "cell_type": "code",
   "execution_count": null,
   "id": "05a4e783-8dd2-47df-acfb-12e29906f94d",
   "metadata": {},
   "outputs": [],
   "source": [
    "## IDEAS:\n",
    "\n",
    "## Are nfl games worse now?\n",
    "\n",
    "# 1.   One score games\n",
    "    # Pregame spread\n",
    "    # Score differential =<7\n",
    "    # Score/ Drive!!!, PPG\n",
    "\n",
    "# 2. Penalties!!!\n",
    "\n",
    "# 3.  dominant games by skill players \n",
    "    # How to define \"dominant game\"?\n",
    "    # Use fantasy points against standard deviation of season average\n",
    "# Latest lead change\n",
    "\n",
    "# In general, find average first\n",
    "    # then tier? Standard deviation\n"
   ]
  },
  {
   "cell_type": "code",
   "execution_count": 81,
   "id": "7ccb7cdd-c81f-4c18-a941-cf2572d5e08c",
   "metadata": {},
   "outputs": [],
   "source": [
    "## Bring in source, import game data\n",
    "\n",
    "import nfl_data_py as nfl\n",
    "import pandas as pd\n",
    "import numpy as np\n",
    "\n",
    "years = range(2000,2024)\n",
    "\n",
    "games_df = nfl.import_schedules(years)\n"
   ]
  },
  {
   "cell_type": "code",
   "execution_count": 82,
   "id": "6d5b18f7-34cd-465f-abeb-6b1ab49edcb0",
   "metadata": {},
   "outputs": [
    {
     "name": "stdout",
     "output_type": "stream",
     "text": [
      "2023 done.\n",
      "2024 done.\n",
      "Downcasting floats.\n"
     ]
    }
   ],
   "source": [
    "cols = [\"game_id\", \"old_game_id\", \"week\", \"penalty\"]\n",
    "\n",
    "pbp = nfl.import_pbp_data([2023,2024], columns = cols)"
   ]
  },
  {
   "cell_type": "code",
   "execution_count": 83,
   "id": "6b72bddc-0c67-470a-91f4-3737bdcb3124",
   "metadata": {},
   "outputs": [],
   "source": [
    "# Find score difference\n",
    "\n",
    "games_df['score_diff'] = abs( games_df['home_score'] - games_df['away_score'])\n",
    "\n",
    "# Create boolean column for one score games (>= 8 for TD w/ 2 pt)\n",
    "\n",
    "games_df['one_score'] = (games_df['score_diff'] <= 8).astype(int)"
   ]
  },
  {
   "cell_type": "code",
   "execution_count": 84,
   "id": "eda2e618-dbc6-4c85-8b09-724157d93e7f",
   "metadata": {},
   "outputs": [],
   "source": [
    "# Find averages by season: one_score, ppg\n",
    "\n",
    "seasons_df = (\n",
    "    games_df\n",
    "    .groupby('season')\n",
    "    .agg(\n",
    "        avg_total = ('total', 'mean'),\n",
    "        one_scores = ('one_score', 'sum')\n",
    "    )\n",
    "    .reset_index()\n",
    "    .round(2)\n",
    ")\n"
   ]
  },
  {
   "cell_type": "code",
   "execution_count": 85,
   "id": "ba6411de-218b-4346-8a1c-723abde9d3df",
   "metadata": {},
   "outputs": [
    {
     "name": "stdout",
     "output_type": "stream",
     "text": [
      "Downcasting floats.\n"
     ]
    }
   ],
   "source": [
    "# Import player weekly data FF scoring, determine averages and benchmarks per season\n",
    "# cols: 'fantasy_points', 'fantasy_points_ppr'\n",
    "\n",
    "#import data, filter variable\n",
    "\n",
    "stats_df = nfl.import_weekly_data(years)\n",
    "\n",
    "positions_to_keep = ['QB', 'RB', 'WR', 'TE']\n",
    "\n",
    "# Rank player total \n",
    "\n",
    "\n",
    "\n",
    "avg_stats_df = (\n",
    "    stats_df[stats_df['position'].isin(positions_to_keep)]\n",
    "    .groupby(['season', 'position'])\n",
    "    .agg(\n",
    "        avg_fpts = ('fantasy_points', np.mean),\n",
    "        dominant_games = ('fantasy_points', lambda x: (x >25).sum()))\n",
    "    .reset_index()\n",
    ")\n",
    "\n"
   ]
  },
  {
   "cell_type": "code",
   "execution_count": 88,
   "id": "37e992e4-c86e-46ba-b237-9117bbe7b64a",
   "metadata": {},
   "outputs": [
    {
     "name": "stdout",
     "output_type": "stream",
     "text": [
      "    season position   avg_fpts  dominant_games  avg_total  one_scores\n",
      "0     2000       QB  10.410015              45      41.09         121\n",
      "1     2000       RB   7.270330              49      41.09         121\n",
      "2     2000       TE   2.982612               0      41.09         121\n",
      "3     2000       WR   5.496795              19      41.09         121\n",
      "4     2001       QB  11.151531              30      40.54         132\n",
      "..     ...      ...        ...             ...        ...         ...\n",
      "91    2022       WR   5.297221              19      44.03         164\n",
      "92    2023       QB  13.364290              68      43.80         154\n",
      "93    2023       RB   6.791903              25      43.80         154\n",
      "94    2023       TE   3.666595               1      43.80         154\n",
      "95    2023       WR   5.276641              21      43.80         154\n",
      "\n",
      "[96 rows x 6 columns]\n"
     ]
    }
   ],
   "source": [
    "# Merge dfs on season\n",
    "\n",
    "player_team_season_df = avg_stats_df.merge(seasons_df, how='left', on='season')\n",
    "\n",
    "print(player_team_season_df)"
   ]
  },
  {
   "cell_type": "code",
   "execution_count": 90,
   "id": "2ebc9e24-1d09-419a-bde6-7c79513aa6e8",
   "metadata": {},
   "outputs": [],
   "source": [
    "player_team_season_df.to_csv(\"/Users/michaelrozewski/Desktop/fantasy prject/bad_games/player_team_season.csv\")"
   ]
  }
 ],
 "metadata": {
  "kernelspec": {
   "display_name": "Python 3 (ipykernel)",
   "language": "python",
   "name": "python3"
  },
  "language_info": {
   "codemirror_mode": {
    "name": "ipython",
    "version": 3
   },
   "file_extension": ".py",
   "mimetype": "text/x-python",
   "name": "python",
   "nbconvert_exporter": "python",
   "pygments_lexer": "ipython3",
   "version": "3.11.5"
  }
 },
 "nbformat": 4,
 "nbformat_minor": 5
}
